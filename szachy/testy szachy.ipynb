{
 "cells": [
  {
   "cell_type": "code",
   "execution_count": 1,
   "metadata": {},
   "outputs": [
    {
     "name": "stdout",
     "output_type": "stream",
     "text": [
      "bR\tbN\tbB\tbQ\tbK\tbB\tbN\tbR\t\n",
      "bP\tbP\tbP\tbP\tbP\tbP\tbP\tbP\t\n",
      "None\tNone\tNone\tNone\tNone\tNone\tNone\tNone\t\n",
      "None\tNone\tNone\tNone\tNone\tNone\tNone\tNone\t\n",
      "None\tNone\tNone\tNone\tNone\tNone\tNone\tNone\t\n",
      "None\tNone\tNone\tNone\tNone\tNone\tNone\tNone\t\n",
      "wP\twP\twP\twP\twP\twP\twP\twP\t\n",
      "wR\twN\twB\twQ\twK\twB\twN\twR\t\n",
      "\n"
     ]
    }
   ],
   "source": [
    "from game import Game\r\n",
    "import pieces\r\n",
    "\r\n",
    "\r\n",
    "g1 = Game()\r\n",
    "g1.set_starting_position()\r\n",
    "\r\n",
    "print(g1)"
   ]
  },
  {
   "cell_type": "code",
   "execution_count": 7,
   "metadata": {},
   "outputs": [
    {
     "name": "stdout",
     "output_type": "stream",
     "text": [
      "siem\n",
      "(1, 2)\n"
     ]
    }
   ],
   "source": [
    "\r\n",
    "\r\n",
    "pionek = Pawn(\"white\")\r\n",
    "\r\n",
    "move = pionek.next_move(2,2)\r\n",
    "print(next(move))"
   ]
  },
  {
   "cell_type": "code",
   "execution_count": 4,
   "metadata": {},
   "outputs": [
    {
     "name": "stdout",
     "output_type": "stream",
     "text": [
      "<generator object test at 0x000001CF08CE6970>\n",
      "<generator object test at 0x000001CF08CE6970>\n",
      "<generator object test at 0x000001CF08CE6970>\n"
     ]
    }
   ],
   "source": [
    "i =2\r\n",
    "\r\n",
    "def test():\r\n",
    "    if i == 2:\r\n",
    "        yield \"test2\"\r\n",
    "\r\n",
    "    yield \"test3\"\r\n",
    "\r\n",
    "\r\n",
    "for _ in range(3):\r\n",
    "    print(test())"
   ]
  },
  {
   "cell_type": "code",
   "execution_count": 9,
   "metadata": {},
   "outputs": [
    {
     "ename": "IndentationError",
     "evalue": "expected an indented block (<ipython-input-9-3a6e718958b0>, line 9)",
     "output_type": "error",
     "traceback": [
      "\u001b[1;36m  File \u001b[1;32m\"<ipython-input-9-3a6e718958b0>\"\u001b[1;36m, line \u001b[1;32m9\u001b[0m\n\u001b[1;33m    def move_forward(self, y, x):\u001b[0m\n\u001b[1;37m    ^\u001b[0m\n\u001b[1;31mIndentationError\u001b[0m\u001b[1;31m:\u001b[0m expected an indented block\n"
     ]
    }
   ],
   "source": []
  },
  {
   "cell_type": "code",
   "execution_count": null,
   "metadata": {},
   "outputs": [],
   "source": [
    "    @property\r\n",
    "    def chosen_piece(self):\r\n",
    "        return self._chosen_piece\r\n",
    "\r\n",
    "    @chosen_piece.setter\r\n",
    "    def chosen_piece(self, chosen_piece):\r\n",
    "        if chosen_piece == None:\r\n",
    "            chosen_piece = None\r\n",
    "        else:\r\n",
    "            square = Rectangle(Point(chosen_piece.x * 100, chosen_piece.y * 100), Point(chosen_piece.x * 100 + 100, chosen_piece.y * 100+ 100))\r\n",
    "            square.draw(self.win)"
   ]
  },
  {
   "cell_type": "code",
   "execution_count": 5,
   "metadata": {},
   "outputs": [],
   "source": [
    "a = [\"a\",\"b\"]\r\n",
    "\r\n",
    "for i in a:\r\n",
    "    i = 2"
   ]
  },
  {
   "cell_type": "code",
   "execution_count": 11,
   "metadata": {},
   "outputs": [
    {
     "name": "stdout",
     "output_type": "stream",
     "text": [
      "['a', 'b']\n"
     ]
    }
   ],
   "source": [
    "print(a)"
   ]
  },
  {
   "cell_type": "code",
   "execution_count": 3,
   "metadata": {},
   "outputs": [
    {
     "name": "stdout",
     "output_type": "stream",
     "text": [
      "2 2\n"
     ]
    }
   ],
   "source": [
    "a = b = 2\r\n",
    "\r\n",
    "print(a,b)"
   ]
  },
  {
   "cell_type": "code",
   "execution_count": 4,
   "metadata": {},
   "outputs": [
    {
     "name": "stdout",
     "output_type": "stream",
     "text": [
      "[None, 'O', 'X']\n",
      "[None, None, None]\n",
      "[None, None, None]\n"
     ]
    }
   ],
   "source": [
    "plansza = [\r\n",
    "    [None, None, None],\r\n",
    "    [None, None, None],\r\n",
    "    [None, None, None]\r\n",
    "]\r\n",
    "\r\n",
    "plansza[0][1] = \"O\"\r\n",
    "plansza[0][2] = \"X\"\r\n",
    "\r\n",
    "for i in range(3):\r\n",
    "    print(plansza[i])"
   ]
  },
  {
   "cell_type": "code",
   "execution_count": 17,
   "metadata": {},
   "outputs": [
    {
     "data": {
      "text/plain": [
       "4.9"
      ]
     },
     "execution_count": 17,
     "metadata": {},
     "output_type": "execute_result"
    }
   ],
   "source": [
    "7 * 7*0.1 * "
   ]
  },
  {
   "cell_type": "code",
   "execution_count": 1,
   "metadata": {},
   "outputs": [
    {
     "data": {
      "text/plain": [
       "True"
      ]
     },
     "execution_count": 1,
     "metadata": {},
     "output_type": "execute_result"
    }
   ],
   "source": [
    "(True or False) and True"
   ]
  },
  {
   "cell_type": "code",
   "execution_count": 48,
   "metadata": {},
   "outputs": [
    {
     "name": "stdout",
     "output_type": "stream",
     "text": [
      "0.0\n",
      "1.7095112913514547\n",
      "2.709511291351455\n",
      "3.4190225827029095\n",
      "3.9693622959161177\n",
      "4.419022582702909\n",
      "4.7992049380885575\n"
     ]
    }
   ],
   "source": [
    "from math import log\r\n",
    "\r\n",
    "for i in range(1,8):\r\n",
    "    print(log(i,1.5))"
   ]
  },
  {
   "cell_type": "code",
   "execution_count": 39,
   "metadata": {},
   "outputs": [
    {
     "data": {
      "text/plain": [
       "2.1"
      ]
     },
     "execution_count": 39,
     "metadata": {},
     "output_type": "execute_result"
    }
   ],
   "source": [
    "round(2.12, 1)"
   ]
  },
  {
   "cell_type": "code",
   "execution_count": 4,
   "metadata": {},
   "outputs": [
    {
     "data": {
      "text/plain": [
       "509"
      ]
     },
     "execution_count": 4,
     "metadata": {},
     "output_type": "execute_result"
    }
   ],
   "source": [
    "int(509.212)"
   ]
  },
  {
   "cell_type": "code",
   "execution_count": 2,
   "metadata": {},
   "outputs": [
    {
     "name": "stdout",
     "output_type": "stream",
     "text": [
      "Something is happening before the function is called.\n",
      "Whee!\n",
      "Something is happening after the function is called.\n"
     ]
    }
   ],
   "source": [
    "def my_decorator(func):\r\n",
    "    def wrapper():\r\n",
    "        print(\"Something is happening before the function is called.\")\r\n",
    "        func()\r\n",
    "        print(\"Something is happening after the function is called.\")\r\n",
    "    return wrapper\r\n",
    "\r\n",
    "@my_decorator\r\n",
    "def say_whee():\r\n",
    "    print(\"Whee!\")\r\n",
    "\r\n",
    "say_whee()"
   ]
  },
  {
   "cell_type": "code",
   "execution_count": 12,
   "metadata": {},
   "outputs": [
    {
     "name": "stdout",
     "output_type": "stream",
     "text": [
      "pierwsze sprawdze\n"
     ]
    },
    {
     "ename": "TypeError",
     "evalue": "my_func() missing 1 required positional argument: 'x'",
     "output_type": "error",
     "traceback": [
      "\u001b[1;31m---------------------------------------------------------------------------\u001b[0m",
      "\u001b[1;31mTypeError\u001b[0m                                 Traceback (most recent call last)",
      "\u001b[1;32m<ipython-input-12-4be55ccecad8>\u001b[0m in \u001b[0;36m<module>\u001b[1;34m\u001b[0m\n\u001b[0;32m     10\u001b[0m \u001b[1;33m\u001b[0m\u001b[0m\n\u001b[0;32m     11\u001b[0m \u001b[1;33m@\u001b[0m\u001b[0mdecorator\u001b[0m\u001b[1;33m(\u001b[0m\u001b[1;32mFalse\u001b[0m\u001b[1;33m)\u001b[0m\u001b[1;33m\u001b[0m\u001b[1;33m\u001b[0m\u001b[0m\n\u001b[1;32m---> 12\u001b[1;33m \u001b[1;32mdef\u001b[0m \u001b[0mmy_func\u001b[0m\u001b[1;33m(\u001b[0m\u001b[0mx\u001b[0m\u001b[1;33m)\u001b[0m\u001b[1;33m:\u001b[0m\u001b[1;33m\u001b[0m\u001b[1;33m\u001b[0m\u001b[0m\n\u001b[0m\u001b[0;32m     13\u001b[0m     \u001b[0mprint\u001b[0m\u001b[1;33m(\u001b[0m\u001b[1;34m\"Inside actual function\"\u001b[0m\u001b[1;33m,\u001b[0m\u001b[0mx\u001b[0m\u001b[1;33m)\u001b[0m\u001b[1;33m\u001b[0m\u001b[1;33m\u001b[0m\u001b[0m\n\u001b[0;32m     14\u001b[0m \u001b[1;33m\u001b[0m\u001b[0m\n",
      "\u001b[1;32m<ipython-input-12-4be55ccecad8>\u001b[0m in \u001b[0;36minner\u001b[1;34m(func)\u001b[0m\n\u001b[0;32m      6\u001b[0m         \u001b[1;32melse\u001b[0m\u001b[1;33m:\u001b[0m\u001b[1;33m\u001b[0m\u001b[1;33m\u001b[0m\u001b[0m\n\u001b[0;32m      7\u001b[0m             \u001b[0mprint\u001b[0m\u001b[1;33m(\u001b[0m\u001b[1;34m\"pierwsze sprawdze\"\u001b[0m\u001b[1;33m)\u001b[0m\u001b[1;33m\u001b[0m\u001b[1;33m\u001b[0m\u001b[0m\n\u001b[1;32m----> 8\u001b[1;33m             \u001b[0mfunc\u001b[0m\u001b[1;33m(\u001b[0m\u001b[1;33m)\u001b[0m\u001b[1;33m\u001b[0m\u001b[1;33m\u001b[0m\u001b[0m\n\u001b[0m\u001b[0;32m      9\u001b[0m     \u001b[1;32mreturn\u001b[0m \u001b[0minner\u001b[0m\u001b[1;33m\u001b[0m\u001b[1;33m\u001b[0m\u001b[0m\n\u001b[0;32m     10\u001b[0m \u001b[1;33m\u001b[0m\u001b[0m\n",
      "\u001b[1;31mTypeError\u001b[0m: my_func() missing 1 required positional argument: 'x'"
     ]
    }
   ],
   "source": [
    "def decorator(like):\r\n",
    "    def inner(func):\r\n",
    "        if like:\r\n",
    "            print(\"true od bomby\")\r\n",
    "            return True\r\n",
    "        else:\r\n",
    "            print(\"pierwsze sprawdze\")\r\n",
    "            func(x)\r\n",
    "    return inner\r\n",
    " \r\n",
    "@decorator(False)\r\n",
    "def my_func(x):\r\n",
    "    print(\"Inside actual function\",x)\r\n",
    "\r\n",
    "my_func(\"a to dziala\")"
   ]
  },
  {
   "cell_type": "code",
   "execution_count": 21,
   "metadata": {},
   "outputs": [
    {
     "name": "stdout",
     "output_type": "stream",
     "text": [
      "[0, 1, 3, 4, 5, 6, 7, 8, 9]\n"
     ]
    }
   ],
   "source": [
    "a = [0, 1, 2, 3, 4, 5, 6, 7, 8, 9]\r\n",
    "\r\n",
    "a = [x for x in a if x!=2]\r\n",
    "\r\n",
    "print(a)"
   ]
  },
  {
   "cell_type": "code",
   "execution_count": null,
   "metadata": {},
   "outputs": [],
   "source": [
    "            for y in range(8):\r\n",
    "                for x in range(8):\r\n",
    "                    if self.mega_board[self.c_board_nr][y][x] != borad_to_draw[y][x]:\r\n",
    "                        if (\r\n",
    "                            self.mega_board[self.c_board_nr][y][x] != None and\r\n",
    "                            self.mega_board[self.c_board_nr][y][x].y == y and   #check if piece wasnt undrawn and drawn in excpet\r\n",
    "                            self.mega_board[self.c_board_nr][y][x].x == x       #check if piece wasnt undrawn and drawn in excpet\r\n",
    "                        ): \r\n",
    "                            self.mega_board[self.c_board_nr][y][x].undraw_piece() #undraw current pieces\r\n",
    "                                \r\n",
    "                        if borad_to_draw[y][x] != None:\r\n",
    "                            try:\r\n",
    "                                borad_to_draw[y][x].draw_piece(y, x)\r\n",
    "                            except:\r\n",
    "                                borad_to_draw[y][x].undraw_piece()\r\n",
    "                                borad_to_draw[y][x].draw_piece(y, x)"
   ]
  },
  {
   "cell_type": "code",
   "execution_count": 1,
   "metadata": {},
   "outputs": [
    {
     "name": "stdout",
     "output_type": "stream",
     "text": [
      "[3, 0]\n",
      "['banana', 'pear']\n"
     ]
    }
   ],
   "source": [
    "fruits = [\"apple\", \"banana\", \"pear\", \"peach\"]\r\n",
    "indecies_to_delete = [3, 0]\r\n",
    "sorted_indecies_to_delete = sorted(indecies_to_delete, reverse=True)\r\n",
    "print(sorted_indecies_to_delete)\r\n",
    "\r\n",
    "for index in indecies_to_delete:\r\n",
    "    del fruits[index]\r\n",
    "\r\n",
    "print(fruits)"
   ]
  },
  {
   "cell_type": "code",
   "execution_count": 1,
   "metadata": {},
   "outputs": [
    {
     "data": {
      "text/plain": [
       "65"
      ]
     },
     "execution_count": 1,
     "metadata": {},
     "output_type": "execute_result"
    }
   ],
   "source": [
    "ord(\"A\")"
   ]
  },
  {
   "cell_type": "code",
   "execution_count": 1,
   "metadata": {},
   "outputs": [
    {
     "name": "stdout",
     "output_type": "stream",
     "text": [
      "męski zestaw do mielenia sigma\n"
     ]
    }
   ],
   "source": [
    "\r\n",
    "\r\n",
    "import re\r\n",
    "\r\n",
    "import html\r\n",
    "import urllib.request\r\n",
    "import urllib.parse\r\n",
    "\r\n",
    "agent = {'User-Agent':\r\n",
    "         \"Mozilla/4.0 (\\\r\n",
    "compatible;\\\r\n",
    "MSIE 6.0;\\\r\n",
    "Windows NT 5.1;\\\r\n",
    "SV1;\\\r\n",
    ".NET CLR 1.1.4322;\\\r\n",
    ".NET CLR 2.0.50727;\\\r\n",
    ".NET CLR 3.0.04506.30\\\r\n",
    ")\"}\r\n",
    "\r\n",
    "\r\n",
    "def unescape(text):\r\n",
    "    parser = html\r\n",
    "    return (parser.unescape(text))\r\n",
    "\r\n",
    "\r\n",
    "def translate(to_translate, to_language=\"auto\", from_language=\"auto\"):\r\n",
    "\r\n",
    "    base_link = \"http://translate.google.com/m?tl=%s&sl=%s&q=%s\"\r\n",
    "\r\n",
    "    to_translate = urllib.parse.quote(to_translate)\r\n",
    "    link = base_link % (to_language, from_language, to_translate)\r\n",
    "    request = urllib.request.Request(link, headers=agent)\r\n",
    "    raw_data = urllib.request.urlopen(request).read()\r\n",
    "    data = raw_data.decode(\"utf-8\")\r\n",
    "    \r\n",
    "    expr = r'(?s)class=\"(?:t0|result-container)\">(.*?)<'\r\n",
    "    re_result = re.findall(expr, data)\r\n",
    "    if (len(re_result) == 0):\r\n",
    "        result = \"\"\r\n",
    "    else:\r\n",
    "        result = unescape(re_result[0])\r\n",
    "    return (result)\r\n",
    "\r\n",
    "print(translate('sigma male grind set', 'pl', 'en')) "
   ]
  },
  {
   "cell_type": "code",
   "execution_count": null,
   "metadata": {},
   "outputs": [],
   "source": []
  }
 ],
 "metadata": {
  "interpreter": {
   "hash": "87c8568440818fd46c5c4a4a0900cfb4497c3edeec62c7c8af65bbcaf2ebd6a0"
  },
  "kernelspec": {
   "display_name": "Python 3.8.8 64-bit ('base': conda)",
   "name": "python3"
  },
  "language_info": {
   "codemirror_mode": {
    "name": "ipython",
    "version": 3
   },
   "file_extension": ".py",
   "mimetype": "text/x-python",
   "name": "python",
   "nbconvert_exporter": "python",
   "pygments_lexer": "ipython3",
   "version": "3.8.8"
  },
  "orig_nbformat": 4
 },
 "nbformat": 4,
 "nbformat_minor": 2
}